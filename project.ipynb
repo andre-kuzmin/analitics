{
 "cells": [
  {
   "cell_type": "markdown",
   "metadata": {},
   "source": [
    "Проект \n",
    "\n",
    "гипотеза : зависимость между погодой и музыкой. точнее между погодой и параметром danceability.\n",
    "итог : гипотеза отвергается\n",
    "\n",
    "\n"
   ]
  },
  {
   "cell_type": "code",
   "execution_count": 265,
   "metadata": {},
   "outputs": [],
   "source": [
    "import pandas as pd\n",
    "import numpy as np\n",
    "import seaborn as sns\n",
    "import matplotlib.pyplot as plt\n",
    "import plotly.graph_objs as go\n",
    "from plotly.offline import download_plotlyjs, init_notebook_mode, plot, iplot\n",
    "from scipy.stats import shapiro\n",
    "from scipy.stats import levene\n",
    "from scipy.stats import f_oneway\n",
    "\n",
    "\n",
    "from plotly import tools"
   ]
  },
  {
   "cell_type": "code",
   "execution_count": 242,
   "metadata": {},
   "outputs": [
    {
     "data": {
      "text/html": [
       "<div>\n",
       "<style scoped>\n",
       "    .dataframe tbody tr th:only-of-type {\n",
       "        vertical-align: middle;\n",
       "    }\n",
       "\n",
       "    .dataframe tbody tr th {\n",
       "        vertical-align: top;\n",
       "    }\n",
       "\n",
       "    .dataframe thead th {\n",
       "        text-align: right;\n",
       "    }\n",
       "</style>\n",
       "<table border=\"1\" class=\"dataframe\">\n",
       "  <thead>\n",
       "    <tr style=\"text-align: right;\">\n",
       "      <th></th>\n",
       "      <th>Unnamed: 0</th>\n",
       "      <th>region</th>\n",
       "      <th>date</th>\n",
       "      <th>month</th>\n",
       "      <th>spotify_id</th>\n",
       "      <th>artist</th>\n",
       "      <th>track_name</th>\n",
       "      <th>position</th>\n",
       "      <th>streams</th>\n",
       "      <th>danceability</th>\n",
       "      <th>...</th>\n",
       "      <th>acousticness</th>\n",
       "      <th>tempo</th>\n",
       "      <th>valence</th>\n",
       "      <th>explicit</th>\n",
       "      <th>temp</th>\n",
       "      <th>rain</th>\n",
       "      <th>snow</th>\n",
       "      <th>cloud</th>\n",
       "      <th>humidity</th>\n",
       "      <th>const</th>\n",
       "    </tr>\n",
       "  </thead>\n",
       "  <tbody>\n",
       "    <tr>\n",
       "      <th>0</th>\n",
       "      <td>0</td>\n",
       "      <td>AUT</td>\n",
       "      <td>2019-01-02</td>\n",
       "      <td>1</td>\n",
       "      <td>7KPGeiXWDsGEvFK62wzU8E</td>\n",
       "      <td>Capital Bra</td>\n",
       "      <td>Benzema</td>\n",
       "      <td>1</td>\n",
       "      <td>35174</td>\n",
       "      <td>0.78</td>\n",
       "      <td>...</td>\n",
       "      <td>0.48</td>\n",
       "      <td>100.08</td>\n",
       "      <td>0.26</td>\n",
       "      <td>1.0</td>\n",
       "      <td>-5</td>\n",
       "      <td>1</td>\n",
       "      <td>1</td>\n",
       "      <td>48</td>\n",
       "      <td>69</td>\n",
       "      <td>1</td>\n",
       "    </tr>\n",
       "    <tr>\n",
       "      <th>1</th>\n",
       "      <td>1</td>\n",
       "      <td>AUT</td>\n",
       "      <td>2019-01-03</td>\n",
       "      <td>1</td>\n",
       "      <td>7KPGeiXWDsGEvFK62wzU8E</td>\n",
       "      <td>Capital Bra</td>\n",
       "      <td>Benzema</td>\n",
       "      <td>1</td>\n",
       "      <td>34237</td>\n",
       "      <td>0.78</td>\n",
       "      <td>...</td>\n",
       "      <td>0.48</td>\n",
       "      <td>100.08</td>\n",
       "      <td>0.26</td>\n",
       "      <td>1.0</td>\n",
       "      <td>-3</td>\n",
       "      <td>1</td>\n",
       "      <td>1</td>\n",
       "      <td>91</td>\n",
       "      <td>70</td>\n",
       "      <td>1</td>\n",
       "    </tr>\n",
       "    <tr>\n",
       "      <th>2</th>\n",
       "      <td>2</td>\n",
       "      <td>AUT</td>\n",
       "      <td>2019-01-04</td>\n",
       "      <td>1</td>\n",
       "      <td>7KPGeiXWDsGEvFK62wzU8E</td>\n",
       "      <td>Capital Bra</td>\n",
       "      <td>Benzema</td>\n",
       "      <td>1</td>\n",
       "      <td>35199</td>\n",
       "      <td>0.78</td>\n",
       "      <td>...</td>\n",
       "      <td>0.48</td>\n",
       "      <td>100.08</td>\n",
       "      <td>0.26</td>\n",
       "      <td>1.0</td>\n",
       "      <td>-2</td>\n",
       "      <td>0</td>\n",
       "      <td>0</td>\n",
       "      <td>14</td>\n",
       "      <td>75</td>\n",
       "      <td>1</td>\n",
       "    </tr>\n",
       "    <tr>\n",
       "      <th>3</th>\n",
       "      <td>3</td>\n",
       "      <td>AUT</td>\n",
       "      <td>2019-01-05</td>\n",
       "      <td>1</td>\n",
       "      <td>7KPGeiXWDsGEvFK62wzU8E</td>\n",
       "      <td>Capital Bra</td>\n",
       "      <td>Benzema</td>\n",
       "      <td>1</td>\n",
       "      <td>32559</td>\n",
       "      <td>0.78</td>\n",
       "      <td>...</td>\n",
       "      <td>0.48</td>\n",
       "      <td>100.08</td>\n",
       "      <td>0.26</td>\n",
       "      <td>1.0</td>\n",
       "      <td>0</td>\n",
       "      <td>0</td>\n",
       "      <td>0</td>\n",
       "      <td>47</td>\n",
       "      <td>80</td>\n",
       "      <td>1</td>\n",
       "    </tr>\n",
       "    <tr>\n",
       "      <th>4</th>\n",
       "      <td>4</td>\n",
       "      <td>AUT</td>\n",
       "      <td>2019-01-06</td>\n",
       "      <td>1</td>\n",
       "      <td>7KPGeiXWDsGEvFK62wzU8E</td>\n",
       "      <td>Capital Bra</td>\n",
       "      <td>Benzema</td>\n",
       "      <td>1</td>\n",
       "      <td>26956</td>\n",
       "      <td>0.78</td>\n",
       "      <td>...</td>\n",
       "      <td>0.48</td>\n",
       "      <td>100.08</td>\n",
       "      <td>0.26</td>\n",
       "      <td>1.0</td>\n",
       "      <td>0</td>\n",
       "      <td>1</td>\n",
       "      <td>0</td>\n",
       "      <td>80</td>\n",
       "      <td>74</td>\n",
       "      <td>1</td>\n",
       "    </tr>\n",
       "    <tr>\n",
       "      <th>...</th>\n",
       "      <td>...</td>\n",
       "      <td>...</td>\n",
       "      <td>...</td>\n",
       "      <td>...</td>\n",
       "      <td>...</td>\n",
       "      <td>...</td>\n",
       "      <td>...</td>\n",
       "      <td>...</td>\n",
       "      <td>...</td>\n",
       "      <td>...</td>\n",
       "      <td>...</td>\n",
       "      <td>...</td>\n",
       "      <td>...</td>\n",
       "      <td>...</td>\n",
       "      <td>...</td>\n",
       "      <td>...</td>\n",
       "      <td>...</td>\n",
       "      <td>...</td>\n",
       "      <td>...</td>\n",
       "      <td>...</td>\n",
       "      <td>...</td>\n",
       "    </tr>\n",
       "    <tr>\n",
       "      <th>1425904</th>\n",
       "      <td>1437643</td>\n",
       "      <td>SVK</td>\n",
       "      <td>2019-12-24</td>\n",
       "      <td>12</td>\n",
       "      <td>5mdNRmqCc8052dYppz1RQn</td>\n",
       "      <td>Jaromír Vomáčka</td>\n",
       "      <td>Veselé Vánoce</td>\n",
       "      <td>199</td>\n",
       "      <td>1973</td>\n",
       "      <td>0.80</td>\n",
       "      <td>...</td>\n",
       "      <td>0.82</td>\n",
       "      <td>125.82</td>\n",
       "      <td>0.80</td>\n",
       "      <td>0.0</td>\n",
       "      <td>6</td>\n",
       "      <td>1</td>\n",
       "      <td>0</td>\n",
       "      <td>84</td>\n",
       "      <td>82</td>\n",
       "      <td>1</td>\n",
       "    </tr>\n",
       "    <tr>\n",
       "      <th>1425905</th>\n",
       "      <td>1437644</td>\n",
       "      <td>SVK</td>\n",
       "      <td>2019-12-25</td>\n",
       "      <td>12</td>\n",
       "      <td>49qXO5HuAmm2MFJfqaTDWw</td>\n",
       "      <td>Rida Radar</td>\n",
       "      <td>Outro</td>\n",
       "      <td>137</td>\n",
       "      <td>1396</td>\n",
       "      <td>0.91</td>\n",
       "      <td>...</td>\n",
       "      <td>0.17</td>\n",
       "      <td>91.00</td>\n",
       "      <td>0.78</td>\n",
       "      <td>1.0</td>\n",
       "      <td>4</td>\n",
       "      <td>1</td>\n",
       "      <td>0</td>\n",
       "      <td>96</td>\n",
       "      <td>89</td>\n",
       "      <td>1</td>\n",
       "    </tr>\n",
       "    <tr>\n",
       "      <th>1425906</th>\n",
       "      <td>1437645</td>\n",
       "      <td>SVK</td>\n",
       "      <td>2019-12-26</td>\n",
       "      <td>12</td>\n",
       "      <td>49qXO5HuAmm2MFJfqaTDWw</td>\n",
       "      <td>Rida Radar</td>\n",
       "      <td>Outro</td>\n",
       "      <td>196</td>\n",
       "      <td>1200</td>\n",
       "      <td>0.91</td>\n",
       "      <td>...</td>\n",
       "      <td>0.17</td>\n",
       "      <td>91.00</td>\n",
       "      <td>0.78</td>\n",
       "      <td>1.0</td>\n",
       "      <td>4</td>\n",
       "      <td>1</td>\n",
       "      <td>0</td>\n",
       "      <td>91</td>\n",
       "      <td>79</td>\n",
       "      <td>1</td>\n",
       "    </tr>\n",
       "    <tr>\n",
       "      <th>1425907</th>\n",
       "      <td>1437646</td>\n",
       "      <td>SVK</td>\n",
       "      <td>2019-12-31</td>\n",
       "      <td>12</td>\n",
       "      <td>5SZn6pPcWotYJ9NxEElWbS</td>\n",
       "      <td>Karol Duchoň</td>\n",
       "      <td>Čardáš dvoch</td>\n",
       "      <td>131</td>\n",
       "      <td>1680</td>\n",
       "      <td>0.41</td>\n",
       "      <td>...</td>\n",
       "      <td>0.09</td>\n",
       "      <td>146.47</td>\n",
       "      <td>0.37</td>\n",
       "      <td>0.0</td>\n",
       "      <td>4</td>\n",
       "      <td>1</td>\n",
       "      <td>0</td>\n",
       "      <td>90</td>\n",
       "      <td>88</td>\n",
       "      <td>1</td>\n",
       "    </tr>\n",
       "    <tr>\n",
       "      <th>1425908</th>\n",
       "      <td>1437647</td>\n",
       "      <td>SVK</td>\n",
       "      <td>2019-12-31</td>\n",
       "      <td>12</td>\n",
       "      <td>4rC81ekhtVPM6PtZRPFbZ4</td>\n",
       "      <td>Romstar Vyškov</td>\n",
       "      <td>Kde si včera bol</td>\n",
       "      <td>155</td>\n",
       "      <td>1559</td>\n",
       "      <td>0.77</td>\n",
       "      <td>...</td>\n",
       "      <td>0.52</td>\n",
       "      <td>145.18</td>\n",
       "      <td>0.86</td>\n",
       "      <td>0.0</td>\n",
       "      <td>4</td>\n",
       "      <td>1</td>\n",
       "      <td>0</td>\n",
       "      <td>90</td>\n",
       "      <td>88</td>\n",
       "      <td>1</td>\n",
       "    </tr>\n",
       "  </tbody>\n",
       "</table>\n",
       "<p>1425909 rows × 26 columns</p>\n",
       "</div>"
      ],
      "text/plain": [
       "         Unnamed: 0 region        date  month              spotify_id  \\\n",
       "0                 0    AUT  2019-01-02      1  7KPGeiXWDsGEvFK62wzU8E   \n",
       "1                 1    AUT  2019-01-03      1  7KPGeiXWDsGEvFK62wzU8E   \n",
       "2                 2    AUT  2019-01-04      1  7KPGeiXWDsGEvFK62wzU8E   \n",
       "3                 3    AUT  2019-01-05      1  7KPGeiXWDsGEvFK62wzU8E   \n",
       "4                 4    AUT  2019-01-06      1  7KPGeiXWDsGEvFK62wzU8E   \n",
       "...             ...    ...         ...    ...                     ...   \n",
       "1425904     1437643    SVK  2019-12-24     12  5mdNRmqCc8052dYppz1RQn   \n",
       "1425905     1437644    SVK  2019-12-25     12  49qXO5HuAmm2MFJfqaTDWw   \n",
       "1425906     1437645    SVK  2019-12-26     12  49qXO5HuAmm2MFJfqaTDWw   \n",
       "1425907     1437646    SVK  2019-12-31     12  5SZn6pPcWotYJ9NxEElWbS   \n",
       "1425908     1437647    SVK  2019-12-31     12  4rC81ekhtVPM6PtZRPFbZ4   \n",
       "\n",
       "                  artist        track_name  position  streams  danceability  \\\n",
       "0            Capital Bra           Benzema         1    35174          0.78   \n",
       "1            Capital Bra           Benzema         1    34237          0.78   \n",
       "2            Capital Bra           Benzema         1    35199          0.78   \n",
       "3            Capital Bra           Benzema         1    32559          0.78   \n",
       "4            Capital Bra           Benzema         1    26956          0.78   \n",
       "...                  ...               ...       ...      ...           ...   \n",
       "1425904  Jaromír Vomáčka     Veselé Vánoce       199     1973          0.80   \n",
       "1425905       Rida Radar             Outro       137     1396          0.91   \n",
       "1425906       Rida Radar             Outro       196     1200          0.91   \n",
       "1425907     Karol Duchoň      Čardáš dvoch       131     1680          0.41   \n",
       "1425908   Romstar Vyškov  Kde si včera bol       155     1559          0.77   \n",
       "\n",
       "         ...  acousticness   tempo  valence  explicit  temp  rain  snow  \\\n",
       "0        ...          0.48  100.08     0.26       1.0    -5     1     1   \n",
       "1        ...          0.48  100.08     0.26       1.0    -3     1     1   \n",
       "2        ...          0.48  100.08     0.26       1.0    -2     0     0   \n",
       "3        ...          0.48  100.08     0.26       1.0     0     0     0   \n",
       "4        ...          0.48  100.08     0.26       1.0     0     1     0   \n",
       "...      ...           ...     ...      ...       ...   ...   ...   ...   \n",
       "1425904  ...          0.82  125.82     0.80       0.0     6     1     0   \n",
       "1425905  ...          0.17   91.00     0.78       1.0     4     1     0   \n",
       "1425906  ...          0.17   91.00     0.78       1.0     4     1     0   \n",
       "1425907  ...          0.09  146.47     0.37       0.0     4     1     0   \n",
       "1425908  ...          0.52  145.18     0.86       0.0     4     1     0   \n",
       "\n",
       "         cloud  humidity  const  \n",
       "0           48        69      1  \n",
       "1           91        70      1  \n",
       "2           14        75      1  \n",
       "3           47        80      1  \n",
       "4           80        74      1  \n",
       "...        ...       ...    ...  \n",
       "1425904     84        82      1  \n",
       "1425905     96        89      1  \n",
       "1425906     91        79      1  \n",
       "1425907     90        88      1  \n",
       "1425908     90        88      1  \n",
       "\n",
       "[1425909 rows x 26 columns]"
      ]
     },
     "execution_count": 242,
     "metadata": {},
     "output_type": "execute_result"
    }
   ],
   "source": [
    "data = pd.read_csv('/Users/andrejkuzmin/Downloads/final_spotify.csv')\n",
    "data"
   ]
  },
  {
   "cell_type": "markdown",
   "metadata": {},
   "source": [
    "чтение и просмотр данных. Видно, что у нас есть 3 категории данных : время-дата, музыка,погода.\n",
    "индексы не совпадают с количеством элементов. Я просмотрел данные, и немного странные . Например, за  6901 а следующее идет 7087. И судя по тому, что количество строк и индекс отличается на ~20к то это не единственное место, где так. Поэтому, для более правильного индексирование нужно сделать команду ниже."
   ]
  },
  {
   "cell_type": "code",
   "execution_count": 32,
   "metadata": {},
   "outputs": [
    {
     "data": {
      "text/html": [
       "<div>\n",
       "<style scoped>\n",
       "    .dataframe tbody tr th:only-of-type {\n",
       "        vertical-align: middle;\n",
       "    }\n",
       "\n",
       "    .dataframe tbody tr th {\n",
       "        vertical-align: top;\n",
       "    }\n",
       "\n",
       "    .dataframe thead th {\n",
       "        text-align: right;\n",
       "    }\n",
       "</style>\n",
       "<table border=\"1\" class=\"dataframe\">\n",
       "  <thead>\n",
       "    <tr style=\"text-align: right;\">\n",
       "      <th></th>\n",
       "      <th>region</th>\n",
       "      <th>date</th>\n",
       "      <th>month</th>\n",
       "      <th>spotify_id</th>\n",
       "      <th>artist</th>\n",
       "      <th>track_name</th>\n",
       "      <th>position</th>\n",
       "      <th>streams</th>\n",
       "      <th>danceability</th>\n",
       "      <th>energy</th>\n",
       "      <th>...</th>\n",
       "      <th>acousticness</th>\n",
       "      <th>tempo</th>\n",
       "      <th>valence</th>\n",
       "      <th>explicit</th>\n",
       "      <th>temp</th>\n",
       "      <th>rain</th>\n",
       "      <th>snow</th>\n",
       "      <th>cloud</th>\n",
       "      <th>humidity</th>\n",
       "      <th>const</th>\n",
       "    </tr>\n",
       "  </thead>\n",
       "  <tbody>\n",
       "    <tr>\n",
       "      <th>1425904</th>\n",
       "      <td>SVK</td>\n",
       "      <td>2019-12-24</td>\n",
       "      <td>12</td>\n",
       "      <td>5mdNRmqCc8052dYppz1RQn</td>\n",
       "      <td>Jaromír Vomáčka</td>\n",
       "      <td>Veselé Vánoce</td>\n",
       "      <td>199</td>\n",
       "      <td>1973</td>\n",
       "      <td>0.80</td>\n",
       "      <td>0.69</td>\n",
       "      <td>...</td>\n",
       "      <td>0.82</td>\n",
       "      <td>125.82</td>\n",
       "      <td>0.80</td>\n",
       "      <td>0.0</td>\n",
       "      <td>6</td>\n",
       "      <td>1</td>\n",
       "      <td>0</td>\n",
       "      <td>84</td>\n",
       "      <td>82</td>\n",
       "      <td>1</td>\n",
       "    </tr>\n",
       "    <tr>\n",
       "      <th>1425905</th>\n",
       "      <td>SVK</td>\n",
       "      <td>2019-12-25</td>\n",
       "      <td>12</td>\n",
       "      <td>49qXO5HuAmm2MFJfqaTDWw</td>\n",
       "      <td>Rida Radar</td>\n",
       "      <td>Outro</td>\n",
       "      <td>137</td>\n",
       "      <td>1396</td>\n",
       "      <td>0.91</td>\n",
       "      <td>0.71</td>\n",
       "      <td>...</td>\n",
       "      <td>0.17</td>\n",
       "      <td>91.00</td>\n",
       "      <td>0.78</td>\n",
       "      <td>1.0</td>\n",
       "      <td>4</td>\n",
       "      <td>1</td>\n",
       "      <td>0</td>\n",
       "      <td>96</td>\n",
       "      <td>89</td>\n",
       "      <td>1</td>\n",
       "    </tr>\n",
       "    <tr>\n",
       "      <th>1425906</th>\n",
       "      <td>SVK</td>\n",
       "      <td>2019-12-26</td>\n",
       "      <td>12</td>\n",
       "      <td>49qXO5HuAmm2MFJfqaTDWw</td>\n",
       "      <td>Rida Radar</td>\n",
       "      <td>Outro</td>\n",
       "      <td>196</td>\n",
       "      <td>1200</td>\n",
       "      <td>0.91</td>\n",
       "      <td>0.71</td>\n",
       "      <td>...</td>\n",
       "      <td>0.17</td>\n",
       "      <td>91.00</td>\n",
       "      <td>0.78</td>\n",
       "      <td>1.0</td>\n",
       "      <td>4</td>\n",
       "      <td>1</td>\n",
       "      <td>0</td>\n",
       "      <td>91</td>\n",
       "      <td>79</td>\n",
       "      <td>1</td>\n",
       "    </tr>\n",
       "    <tr>\n",
       "      <th>1425907</th>\n",
       "      <td>SVK</td>\n",
       "      <td>2019-12-31</td>\n",
       "      <td>12</td>\n",
       "      <td>5SZn6pPcWotYJ9NxEElWbS</td>\n",
       "      <td>Karol Duchoň</td>\n",
       "      <td>Čardáš dvoch</td>\n",
       "      <td>131</td>\n",
       "      <td>1680</td>\n",
       "      <td>0.41</td>\n",
       "      <td>0.86</td>\n",
       "      <td>...</td>\n",
       "      <td>0.09</td>\n",
       "      <td>146.47</td>\n",
       "      <td>0.37</td>\n",
       "      <td>0.0</td>\n",
       "      <td>4</td>\n",
       "      <td>1</td>\n",
       "      <td>0</td>\n",
       "      <td>90</td>\n",
       "      <td>88</td>\n",
       "      <td>1</td>\n",
       "    </tr>\n",
       "    <tr>\n",
       "      <th>1425908</th>\n",
       "      <td>SVK</td>\n",
       "      <td>2019-12-31</td>\n",
       "      <td>12</td>\n",
       "      <td>4rC81ekhtVPM6PtZRPFbZ4</td>\n",
       "      <td>Romstar Vyškov</td>\n",
       "      <td>Kde si včera bol</td>\n",
       "      <td>155</td>\n",
       "      <td>1559</td>\n",
       "      <td>0.77</td>\n",
       "      <td>0.95</td>\n",
       "      <td>...</td>\n",
       "      <td>0.52</td>\n",
       "      <td>145.18</td>\n",
       "      <td>0.86</td>\n",
       "      <td>0.0</td>\n",
       "      <td>4</td>\n",
       "      <td>1</td>\n",
       "      <td>0</td>\n",
       "      <td>90</td>\n",
       "      <td>88</td>\n",
       "      <td>1</td>\n",
       "    </tr>\n",
       "  </tbody>\n",
       "</table>\n",
       "<p>5 rows × 25 columns</p>\n",
       "</div>"
      ],
      "text/plain": [
       "        region        date  month              spotify_id           artist  \\\n",
       "1425904    SVK  2019-12-24     12  5mdNRmqCc8052dYppz1RQn  Jaromír Vomáčka   \n",
       "1425905    SVK  2019-12-25     12  49qXO5HuAmm2MFJfqaTDWw       Rida Radar   \n",
       "1425906    SVK  2019-12-26     12  49qXO5HuAmm2MFJfqaTDWw       Rida Radar   \n",
       "1425907    SVK  2019-12-31     12  5SZn6pPcWotYJ9NxEElWbS     Karol Duchoň   \n",
       "1425908    SVK  2019-12-31     12  4rC81ekhtVPM6PtZRPFbZ4   Romstar Vyškov   \n",
       "\n",
       "               track_name  position  streams  danceability  energy  ...  \\\n",
       "1425904     Veselé Vánoce       199     1973          0.80    0.69  ...   \n",
       "1425905             Outro       137     1396          0.91    0.71  ...   \n",
       "1425906             Outro       196     1200          0.91    0.71  ...   \n",
       "1425907      Čardáš dvoch       131     1680          0.41    0.86  ...   \n",
       "1425908  Kde si včera bol       155     1559          0.77    0.95  ...   \n",
       "\n",
       "         acousticness   tempo  valence  explicit  temp  rain  snow  cloud  \\\n",
       "1425904          0.82  125.82     0.80       0.0     6     1     0     84   \n",
       "1425905          0.17   91.00     0.78       1.0     4     1     0     96   \n",
       "1425906          0.17   91.00     0.78       1.0     4     1     0     91   \n",
       "1425907          0.09  146.47     0.37       0.0     4     1     0     90   \n",
       "1425908          0.52  145.18     0.86       0.0     4     1     0     90   \n",
       "\n",
       "         humidity  const  \n",
       "1425904        82      1  \n",
       "1425905        89      1  \n",
       "1425906        79      1  \n",
       "1425907        88      1  \n",
       "1425908        88      1  \n",
       "\n",
       "[5 rows x 25 columns]"
      ]
     },
     "execution_count": 32,
     "metadata": {},
     "output_type": "execute_result"
    }
   ],
   "source": [
    "data = pd.read_csv('/Users/andrejkuzmin/Downloads/final_spotify.csv')\n",
    "del data['Unnamed: 0']\n",
    "data.tail()"
   ]
  },
  {
   "cell_type": "code",
   "execution_count": 12,
   "metadata": {},
   "outputs": [
    {
     "data": {
      "text/plain": [
       "(1425909, 25)"
      ]
     },
     "execution_count": 12,
     "metadata": {},
     "output_type": "execute_result"
    }
   ],
   "source": [
    "data.shape"
   ]
  },
  {
   "cell_type": "markdown",
   "metadata": {},
   "source": [
    "размер : 25 колонок, 1425909 - строк \n",
    "совпадает с количеством на kaggle , поэтому прочтение верное .\n",
    "в дальнейшем можно использовать, когда нужен размер нашего dataframe.\n"
   ]
  },
  {
   "cell_type": "code",
   "execution_count": 13,
   "metadata": {},
   "outputs": [
    {
     "data": {
      "text/html": [
       "<div>\n",
       "<style scoped>\n",
       "    .dataframe tbody tr th:only-of-type {\n",
       "        vertical-align: middle;\n",
       "    }\n",
       "\n",
       "    .dataframe tbody tr th {\n",
       "        vertical-align: top;\n",
       "    }\n",
       "\n",
       "    .dataframe thead th {\n",
       "        text-align: right;\n",
       "    }\n",
       "</style>\n",
       "<table border=\"1\" class=\"dataframe\">\n",
       "  <thead>\n",
       "    <tr style=\"text-align: right;\">\n",
       "      <th></th>\n",
       "      <th>month</th>\n",
       "      <th>position</th>\n",
       "      <th>streams</th>\n",
       "      <th>danceability</th>\n",
       "      <th>energy</th>\n",
       "      <th>instrumentalness</th>\n",
       "      <th>key</th>\n",
       "      <th>liveness</th>\n",
       "      <th>loudness</th>\n",
       "      <th>speechiness</th>\n",
       "      <th>acousticness</th>\n",
       "      <th>tempo</th>\n",
       "      <th>valence</th>\n",
       "      <th>explicit</th>\n",
       "      <th>temp</th>\n",
       "      <th>rain</th>\n",
       "      <th>snow</th>\n",
       "      <th>cloud</th>\n",
       "      <th>humidity</th>\n",
       "      <th>const</th>\n",
       "    </tr>\n",
       "  </thead>\n",
       "  <tbody>\n",
       "    <tr>\n",
       "      <th>count</th>\n",
       "      <td>1425909.000</td>\n",
       "      <td>1425909.000</td>\n",
       "      <td>1425909.00</td>\n",
       "      <td>1425907.000</td>\n",
       "      <td>1425907.000</td>\n",
       "      <td>1425907.000</td>\n",
       "      <td>1425907.000</td>\n",
       "      <td>1425907.000</td>\n",
       "      <td>1425907.000</td>\n",
       "      <td>1425907.000</td>\n",
       "      <td>1425907.000</td>\n",
       "      <td>1425907.000</td>\n",
       "      <td>1425907.000</td>\n",
       "      <td>1425907.000</td>\n",
       "      <td>1425909.000</td>\n",
       "      <td>1425909.000</td>\n",
       "      <td>1425909.000</td>\n",
       "      <td>1425909.000</td>\n",
       "      <td>1425909.000</td>\n",
       "      <td>1425909.0</td>\n",
       "    </tr>\n",
       "    <tr>\n",
       "      <th>mean</th>\n",
       "      <td>6.558</td>\n",
       "      <td>99.121</td>\n",
       "      <td>31404.62</td>\n",
       "      <td>0.693</td>\n",
       "      <td>0.641</td>\n",
       "      <td>0.009</td>\n",
       "      <td>5.414</td>\n",
       "      <td>0.169</td>\n",
       "      <td>-6.445</td>\n",
       "      <td>0.126</td>\n",
       "      <td>0.252</td>\n",
       "      <td>120.053</td>\n",
       "      <td>0.495</td>\n",
       "      <td>0.346</td>\n",
       "      <td>13.329</td>\n",
       "      <td>0.404</td>\n",
       "      <td>0.054</td>\n",
       "      <td>30.117</td>\n",
       "      <td>56.487</td>\n",
       "      <td>1.0</td>\n",
       "    </tr>\n",
       "    <tr>\n",
       "      <th>std</th>\n",
       "      <td>3.441</td>\n",
       "      <td>57.420</td>\n",
       "      <td>54011.76</td>\n",
       "      <td>0.134</td>\n",
       "      <td>0.159</td>\n",
       "      <td>0.056</td>\n",
       "      <td>3.567</td>\n",
       "      <td>0.129</td>\n",
       "      <td>2.434</td>\n",
       "      <td>0.108</td>\n",
       "      <td>0.235</td>\n",
       "      <td>28.036</td>\n",
       "      <td>0.213</td>\n",
       "      <td>0.476</td>\n",
       "      <td>8.627</td>\n",
       "      <td>0.491</td>\n",
       "      <td>0.225</td>\n",
       "      <td>25.827</td>\n",
       "      <td>15.864</td>\n",
       "      <td>0.0</td>\n",
       "    </tr>\n",
       "    <tr>\n",
       "      <th>min</th>\n",
       "      <td>1.000</td>\n",
       "      <td>1.000</td>\n",
       "      <td>1001.00</td>\n",
       "      <td>0.000</td>\n",
       "      <td>0.000</td>\n",
       "      <td>0.000</td>\n",
       "      <td>0.000</td>\n",
       "      <td>0.010</td>\n",
       "      <td>-43.990</td>\n",
       "      <td>0.000</td>\n",
       "      <td>0.000</td>\n",
       "      <td>0.000</td>\n",
       "      <td>0.000</td>\n",
       "      <td>0.000</td>\n",
       "      <td>-18.000</td>\n",
       "      <td>0.000</td>\n",
       "      <td>0.000</td>\n",
       "      <td>0.000</td>\n",
       "      <td>22.000</td>\n",
       "      <td>1.0</td>\n",
       "    </tr>\n",
       "    <tr>\n",
       "      <th>25%</th>\n",
       "      <td>4.000</td>\n",
       "      <td>49.000</td>\n",
       "      <td>4951.00</td>\n",
       "      <td>0.610</td>\n",
       "      <td>0.540</td>\n",
       "      <td>0.000</td>\n",
       "      <td>2.000</td>\n",
       "      <td>0.090</td>\n",
       "      <td>-7.520</td>\n",
       "      <td>0.050</td>\n",
       "      <td>0.060</td>\n",
       "      <td>97.990</td>\n",
       "      <td>0.330</td>\n",
       "      <td>0.000</td>\n",
       "      <td>6.000</td>\n",
       "      <td>0.000</td>\n",
       "      <td>0.000</td>\n",
       "      <td>8.000</td>\n",
       "      <td>46.000</td>\n",
       "      <td>1.0</td>\n",
       "    </tr>\n",
       "    <tr>\n",
       "      <th>50%</th>\n",
       "      <td>7.000</td>\n",
       "      <td>98.000</td>\n",
       "      <td>12093.00</td>\n",
       "      <td>0.710</td>\n",
       "      <td>0.660</td>\n",
       "      <td>0.000</td>\n",
       "      <td>6.000</td>\n",
       "      <td>0.120</td>\n",
       "      <td>-6.100</td>\n",
       "      <td>0.080</td>\n",
       "      <td>0.180</td>\n",
       "      <td>118.030</td>\n",
       "      <td>0.490</td>\n",
       "      <td>0.000</td>\n",
       "      <td>14.000</td>\n",
       "      <td>0.000</td>\n",
       "      <td>0.000</td>\n",
       "      <td>22.000</td>\n",
       "      <td>55.000</td>\n",
       "      <td>1.0</td>\n",
       "    </tr>\n",
       "    <tr>\n",
       "      <th>75%</th>\n",
       "      <td>10.000</td>\n",
       "      <td>148.000</td>\n",
       "      <td>37839.00</td>\n",
       "      <td>0.790</td>\n",
       "      <td>0.760</td>\n",
       "      <td>0.000</td>\n",
       "      <td>8.000</td>\n",
       "      <td>0.190</td>\n",
       "      <td>-4.860</td>\n",
       "      <td>0.180</td>\n",
       "      <td>0.370</td>\n",
       "      <td>137.020</td>\n",
       "      <td>0.650</td>\n",
       "      <td>1.000</td>\n",
       "      <td>21.000</td>\n",
       "      <td>1.000</td>\n",
       "      <td>0.000</td>\n",
       "      <td>48.000</td>\n",
       "      <td>66.000</td>\n",
       "      <td>1.0</td>\n",
       "    </tr>\n",
       "    <tr>\n",
       "      <th>max</th>\n",
       "      <td>12.000</td>\n",
       "      <td>200.000</td>\n",
       "      <td>1964217.00</td>\n",
       "      <td>0.980</td>\n",
       "      <td>1.000</td>\n",
       "      <td>0.980</td>\n",
       "      <td>11.000</td>\n",
       "      <td>0.990</td>\n",
       "      <td>-0.790</td>\n",
       "      <td>0.950</td>\n",
       "      <td>1.000</td>\n",
       "      <td>232.690</td>\n",
       "      <td>0.990</td>\n",
       "      <td>1.000</td>\n",
       "      <td>31.000</td>\n",
       "      <td>1.000</td>\n",
       "      <td>1.000</td>\n",
       "      <td>100.000</td>\n",
       "      <td>97.000</td>\n",
       "      <td>1.0</td>\n",
       "    </tr>\n",
       "  </tbody>\n",
       "</table>\n",
       "</div>"
      ],
      "text/plain": [
       "             month     position     streams  danceability       energy  \\\n",
       "count  1425909.000  1425909.000  1425909.00   1425907.000  1425907.000   \n",
       "mean         6.558       99.121    31404.62         0.693        0.641   \n",
       "std          3.441       57.420    54011.76         0.134        0.159   \n",
       "min          1.000        1.000     1001.00         0.000        0.000   \n",
       "25%          4.000       49.000     4951.00         0.610        0.540   \n",
       "50%          7.000       98.000    12093.00         0.710        0.660   \n",
       "75%         10.000      148.000    37839.00         0.790        0.760   \n",
       "max         12.000      200.000  1964217.00         0.980        1.000   \n",
       "\n",
       "       instrumentalness          key     liveness     loudness  speechiness  \\\n",
       "count       1425907.000  1425907.000  1425907.000  1425907.000  1425907.000   \n",
       "mean              0.009        5.414        0.169       -6.445        0.126   \n",
       "std               0.056        3.567        0.129        2.434        0.108   \n",
       "min               0.000        0.000        0.010      -43.990        0.000   \n",
       "25%               0.000        2.000        0.090       -7.520        0.050   \n",
       "50%               0.000        6.000        0.120       -6.100        0.080   \n",
       "75%               0.000        8.000        0.190       -4.860        0.180   \n",
       "max               0.980       11.000        0.990       -0.790        0.950   \n",
       "\n",
       "       acousticness        tempo      valence     explicit         temp  \\\n",
       "count   1425907.000  1425907.000  1425907.000  1425907.000  1425909.000   \n",
       "mean          0.252      120.053        0.495        0.346       13.329   \n",
       "std           0.235       28.036        0.213        0.476        8.627   \n",
       "min           0.000        0.000        0.000        0.000      -18.000   \n",
       "25%           0.060       97.990        0.330        0.000        6.000   \n",
       "50%           0.180      118.030        0.490        0.000       14.000   \n",
       "75%           0.370      137.020        0.650        1.000       21.000   \n",
       "max           1.000      232.690        0.990        1.000       31.000   \n",
       "\n",
       "              rain         snow        cloud     humidity      const  \n",
       "count  1425909.000  1425909.000  1425909.000  1425909.000  1425909.0  \n",
       "mean         0.404        0.054       30.117       56.487        1.0  \n",
       "std          0.491        0.225       25.827       15.864        0.0  \n",
       "min          0.000        0.000        0.000       22.000        1.0  \n",
       "25%          0.000        0.000        8.000       46.000        1.0  \n",
       "50%          0.000        0.000       22.000       55.000        1.0  \n",
       "75%          1.000        0.000       48.000       66.000        1.0  \n",
       "max          1.000        1.000      100.000       97.000        1.0  "
      ]
     },
     "execution_count": 13,
     "metadata": {},
     "output_type": "execute_result"
    }
   ],
   "source": [
    "data.describe().round(3)"
   ]
  },
  {
   "cell_type": "markdown",
   "metadata": {},
   "source": [
    "здесь представлены некоторые статистические данные по числовым столбцам. По некоторым из них, смысловой нагрузки нет (например month - среднее значение или дисперсия, к примеру,  естественно не уместны.)"
   ]
  },
  {
   "cell_type": "code",
   "execution_count": 14,
   "metadata": {},
   "outputs": [
    {
     "name": "stdout",
     "output_type": "stream",
     "text": [
      "<class 'pandas.core.frame.DataFrame'>\n",
      "RangeIndex: 1425909 entries, 0 to 1425908\n",
      "Data columns (total 25 columns):\n",
      " #   Column            Non-Null Count    Dtype  \n",
      "---  ------            --------------    -----  \n",
      " 0   region            1425909 non-null  object \n",
      " 1   date              1425909 non-null  object \n",
      " 2   month             1425909 non-null  int64  \n",
      " 3   spotify_id        1425907 non-null  object \n",
      " 4   artist            1425879 non-null  object \n",
      " 5   track_name        1425880 non-null  object \n",
      " 6   position          1425909 non-null  int64  \n",
      " 7   streams           1425909 non-null  int64  \n",
      " 8   danceability      1425907 non-null  float64\n",
      " 9   energy            1425907 non-null  float64\n",
      " 10  instrumentalness  1425907 non-null  float64\n",
      " 11  key               1425907 non-null  float64\n",
      " 12  liveness          1425907 non-null  float64\n",
      " 13  loudness          1425907 non-null  float64\n",
      " 14  speechiness       1425907 non-null  float64\n",
      " 15  acousticness      1425907 non-null  float64\n",
      " 16  tempo             1425907 non-null  float64\n",
      " 17  valence           1425907 non-null  float64\n",
      " 18  explicit          1425907 non-null  float64\n",
      " 19  temp              1425909 non-null  int64  \n",
      " 20  rain              1425909 non-null  int64  \n",
      " 21  snow              1425909 non-null  int64  \n",
      " 22  cloud             1425909 non-null  int64  \n",
      " 23  humidity          1425909 non-null  int64  \n",
      " 24  const             1425909 non-null  int64  \n",
      "dtypes: float64(11), int64(9), object(5)\n",
      "memory usage: 272.0+ MB\n"
     ]
    }
   ],
   "source": [
    "data.info()\n"
   ]
  },
  {
   "cell_type": "markdown",
   "metadata": {},
   "source": [
    "пустых столбцов нет. Типы : числовые(int/float) и object. уже по количеству видно, что есть пробелы(non-Null не всегда число строк(1425909). Опять же ,сравнивая эти же значения, можно увидеть, что пустых значений немного(1425... есть у всех,  да и максимальный пропуск порядка 30 всего значений.) Для достоверности данных их можно удалить. Они роли не сыграют. \n",
    "\n"
   ]
  },
  {
   "cell_type": "code",
   "execution_count": 15,
   "metadata": {},
   "outputs": [
    {
     "name": "stdout",
     "output_type": "stream",
     "text": [
      "0\n",
      "нет дубликатов\n"
     ]
    }
   ],
   "source": [
    "\n",
    "print(data.duplicated().sum())\n",
    "if True in data.duplicated().values:\n",
    "    print('есть дубликаты')\n",
    "else:\n",
    "    print('нет дубликатов')\n",
    "    \n",
    "        \n",
    "    \n",
    "    \n",
    "        \n",
    "    \n",
    "    \n",
    "        "
   ]
  },
  {
   "cell_type": "markdown",
   "metadata": {},
   "source": [
    "дубликатов нет. метод duplicated() возвращает series c True/False значениями . сделал двумя способами."
   ]
  },
  {
   "cell_type": "code",
   "execution_count": 16,
   "metadata": {},
   "outputs": [
    {
     "name": "stdout",
     "output_type": "stream",
     "text": [
      "region               0\n",
      "date                 0\n",
      "month                0\n",
      "spotify_id           2\n",
      "artist              30\n",
      "track_name          29\n",
      "position             0\n",
      "streams              0\n",
      "danceability         2\n",
      "energy               2\n",
      "instrumentalness     2\n",
      "key                  2\n",
      "liveness             2\n",
      "loudness             2\n",
      "speechiness          2\n",
      "acousticness         2\n",
      "tempo                2\n",
      "valence              2\n",
      "explicit             2\n",
      "temp                 0\n",
      "rain                 0\n",
      "snow                 0\n",
      "cloud                0\n",
      "humidity             0\n",
      "const                0\n",
      "dtype: int64\n",
      "spotify_id Int64Index([507888, 507889], dtype='int64') \n",
      "\n",
      "artist Int64Index([ 507888,  507889, 1023727, 1023728, 1023729, 1023730, 1023731,\n",
      "            1023732, 1023733, 1023734, 1023735, 1023736, 1023737, 1023738,\n",
      "            1023739, 1023740, 1023741, 1023742, 1023743, 1023744, 1023745,\n",
      "            1023746, 1023747, 1023748, 1023749, 1023750, 1023751, 1023752,\n",
      "            1023753, 1282385],\n",
      "           dtype='int64') \n",
      "\n",
      "track_name Int64Index([ 507888,  507889, 1023727, 1023728, 1023729, 1023730, 1023731,\n",
      "            1023732, 1023733, 1023734, 1023735, 1023736, 1023737, 1023738,\n",
      "            1023739, 1023740, 1023741, 1023742, 1023743, 1023744, 1023745,\n",
      "            1023746, 1023747, 1023748, 1023749, 1023750, 1023751, 1023752,\n",
      "            1023753],\n",
      "           dtype='int64') \n",
      "\n",
      "danceability Int64Index([507888, 507889], dtype='int64') \n",
      "\n",
      "energy Int64Index([507888, 507889], dtype='int64') \n",
      "\n",
      "instrumentalness Int64Index([507888, 507889], dtype='int64') \n",
      "\n",
      "key Int64Index([507888, 507889], dtype='int64') \n",
      "\n",
      "liveness Int64Index([507888, 507889], dtype='int64') \n",
      "\n",
      "loudness Int64Index([507888, 507889], dtype='int64') \n",
      "\n",
      "speechiness Int64Index([507888, 507889], dtype='int64') \n",
      "\n",
      "acousticness Int64Index([507888, 507889], dtype='int64') \n",
      "\n",
      "tempo Int64Index([507888, 507889], dtype='int64') \n",
      "\n",
      "valence Int64Index([507888, 507889], dtype='int64') \n",
      "\n",
      "explicit Int64Index([507888, 507889], dtype='int64') \n",
      "\n"
     ]
    }
   ],
   "source": [
    "print(data.isnull().sum())\n",
    "for i in data.columns:\n",
    "    if data[i].isnull().sum() !=0:\n",
    "        print(i,data.loc[data[i].isnull() == True].index,'\\n')\n",
    "\n",
    "        \n",
    "        \n",
    "     \n",
    "\n",
    "        \n",
    "    \n",
    "\n"
   ]
  },
  {
   "cell_type": "markdown",
   "metadata": {},
   "source": [
    "мы видим, что данных по музыке нет в 507888 и 507889 строках . Также , есть строки где нет артистов, поэтому мы должны их удалить. Решил посмотреть индексы, чтобы понять , много ли строк с большим количеством пропусков. Описание удаление  ниже. Интересный факт из анализа данной ячейки : есть строка, где нет артиста но есть песня(30 пропусков по artists, 29 по трэкам)"
   ]
  },
  {
   "cell_type": "code",
   "execution_count": null,
   "metadata": {},
   "outputs": [],
   "source": []
  },
  {
   "cell_type": "code",
   "execution_count": 140,
   "metadata": {},
   "outputs": [
    {
     "data": {
      "text/plain": [
       "(1425879, 26)"
      ]
     },
     "execution_count": 140,
     "metadata": {},
     "output_type": "execute_result"
    }
   ],
   "source": [
    "data = data.dropna(how = 'any')\n",
    "data.shape"
   ]
  },
  {
   "cell_type": "markdown",
   "metadata": {},
   "source": [
    "так как у нас немного пропусков, то мы можем удалить их. Что и является один из решением данной проблемы. Так как самое большое количество пропусков в artist и мы не можем , допустим, написать среднее по артисту, или илюбое другое значение , то мы их просто удаляем. Что логично, что число теперь строчек совпадает с числом наименьшим без\n",
    "нулов(artists)"
   ]
  },
  {
   "cell_type": "code",
   "execution_count": 18,
   "metadata": {},
   "outputs": [
    {
     "name": "stdout",
     "output_type": "stream",
     "text": [
      "Категориальные признаки:  ['region', 'date', 'spotify_id', 'artist', 'track_name']\n",
      "числовые признаки:  ['month', 'position', 'streams', 'danceability', 'energy', 'instrumentalness', 'key', 'liveness', 'loudness', 'speechiness', 'acousticness', 'tempo', 'valence', 'explicit', 'temp', 'rain', 'snow', 'cloud', 'humidity', 'const']\n"
     ]
    }
   ],
   "source": [
    "categ_col = [c for c in data.columns if data[c].dtype.name == 'object']\n",
    "numer_col   = [c for c in data.columns if data[c].dtype.name != 'object']\n",
    "print ('Категориальные признаки: ',categ_col)\n",
    "print ('числовые признаки: ',numer_col)"
   ]
  },
  {
   "cell_type": "markdown",
   "metadata": {},
   "source": [
    "так же, можно отнести к категориальным данным из числовых такие как, к примеру, rain или snow(либо 0 либо 1). Также, логично , что month  относится к категориальному признаку по смыслу. "
   ]
  },
  {
   "cell_type": "markdown",
   "metadata": {},
   "source": [
    "Так как в наших данных и погода, и музыка, я решил посмотреть есть ли какие нибудь зависимости между этими категориями."
   ]
  },
  {
   "cell_type": "code",
   "execution_count": 19,
   "metadata": {},
   "outputs": [
    {
     "data": {
      "text/plain": [
       "<AxesSubplot:>"
      ]
     },
     "execution_count": 19,
     "metadata": {},
     "output_type": "execute_result"
    },
    {
     "data": {
      "image/png": "[encoded data removed]",
      "text/plain": [
       "<Figure size 1440x720 with 2 Axes>"
      ]
     },
     "metadata": {
      "needs_background": "light"
     },
     "output_type": "display_data"
    }
   ],
   "source": [
    "plt.figure(figsize=(20,10))\n",
    "c= data[['position','streams','danceability','energy','instrumentalness','tempo','valence','explicit','temp','rain','snow','cloud','humidity']].corr()\n",
    "sns.heatmap(c,cmap=\"BrBG\",annot=True)"
   ]
  },
  {
   "cell_type": "code",
   "execution_count": null,
   "metadata": {},
   "outputs": [],
   "source": []
  },
  {
   "cell_type": "markdown",
   "metadata": {},
   "source": [
    "зависимости на первый взгляд у музыки и погоды нет. Посмотрев меньшее количество и по смыслу потенциально коррелирующие признаки, все равно зависимости не выявлено. Возможно, если поделить на какие-то категории а не конкретные значения  по погоде и/или по музыке, то можно получить значения более зависимые. "
   ]
  },
  {
   "cell_type": "code",
   "execution_count": 20,
   "metadata": {},
   "outputs": [
    {
     "data": {
      "text/plain": [
       "<seaborn.axisgrid.FacetGrid at 0x7fd523ce8e80>"
      ]
     },
     "execution_count": 20,
     "metadata": {},
     "output_type": "execute_result"
    },
    {
     "data": {
      "image/png": "[encoded data removed]",
      "text/plain": [
       "<Figure size 1008x504 with 1 Axes>"
      ]
     },
     "metadata": {
      "needs_background": "light"
     },
     "output_type": "display_data"
    }
   ],
   "source": [
    "sns.catplot(x=\"danceability\", kind=\"count\",palette=\"magma\", data=data, height = 7,aspect=2) "
   ]
  },
  {
   "cell_type": "markdown",
   "metadata": {},
   "source": [
    "Посмотрел распределение параметра danceability, можно увидеть , что распределние нормальное"
   ]
  },
  {
   "cell_type": "code",
   "execution_count": 21,
   "metadata": {
    "scrolled": false
   },
   "outputs": [
    {
     "data": {
      "text/plain": [
       "<seaborn.axisgrid.FacetGrid at 0x7fd4886deeb0>"
      ]
     },
     "execution_count": 21,
     "metadata": {},
     "output_type": "execute_result"
    },
    {
     "data": {
      "image/png": "[encoded data removed]",
      "text/plain": [
       "<Figure size 1008x504 with 1 Axes>"
      ]
     },
     "metadata": {
      "needs_background": "light"
     },
     "output_type": "display_data"
    }
   ],
   "source": [
    "sns.catplot(x=\"temp\", kind=\"count\",palette=\"magma\", data=data, height = 7,aspect=2) "
   ]
  },
  {
   "cell_type": "markdown",
   "metadata": {},
   "source": [
    "график распределения температур. Ниже , я сделал еще распределение для weather. Это тоже температура, \n",
    "но я поделил по категориям."
   ]
  },
  {
   "cell_type": "code",
   "execution_count": 263,
   "metadata": {},
   "outputs": [],
   "source": [
    "data['weather'] = np.where(data['temp'] <= 0,'cold',\n",
    "                             np.where(np.logical_and(data['temp'] > 0,data['temp'] <= 15),'cool',\n",
    "                                     np.where(np.logical_and(data['temp'] >15,data['temp'] <=25),'warm','hot')))\n",
    "\n"
   ]
  },
  {
   "cell_type": "code",
   "execution_count": 23,
   "metadata": {},
   "outputs": [
    {
     "data": {
      "text/plain": [
       "<seaborn.axisgrid.FacetGrid at 0x7fd4a0709730>"
      ]
     },
     "execution_count": 23,
     "metadata": {},
     "output_type": "execute_result"
    },
    {
     "data": {
      "image/png": "[encoded data removed]",
      "text/plain": [
       "<Figure size 1008x504 with 1 Axes>"
      ]
     },
     "metadata": {
      "needs_background": "light"
     },
     "output_type": "display_data"
    }
   ],
   "source": [
    "sns.catplot(x=\"weather\", kind=\"count\",palette=\"magma\", data=data, height = 7,aspect=2) "
   ]
  },
  {
   "cell_type": "markdown",
   "metadata": {},
   "source": [
    "Выше решил посмотреть распределение температур. Сгруппировал для удобства. \n",
    "В целом, наш регион Европа, и видно, что распределение таково, что в основном температура средняя. \n",
    "Т.о. для Европы результаты интуинтивно верные. "
   ]
  },
  {
   "cell_type": "code",
   "execution_count": 261,
   "metadata": {},
   "outputs": [
    {
     "name": "stderr",
     "output_type": "stream",
     "text": [
      "/Users/andrejkuzmin/opt/anaconda3/lib/python3.8/site-packages/seaborn/distributions.py:2551: FutureWarning:\n",
      "\n",
      "`distplot` is a deprecated function and will be removed in a future version. Please adapt your code to use either `displot` (a figure-level function with similar flexibility) or `histplot` (an axes-level function for histograms).\n",
      "\n",
      "/Users/andrejkuzmin/opt/anaconda3/lib/python3.8/site-packages/seaborn/distributions.py:2055: FutureWarning:\n",
      "\n",
      "The `axis` variable is no longer used and will be removed. Instead, assign variables directly to `x` or `y`.\n",
      "\n",
      "/Users/andrejkuzmin/opt/anaconda3/lib/python3.8/site-packages/seaborn/distributions.py:2551: FutureWarning:\n",
      "\n",
      "`distplot` is a deprecated function and will be removed in a future version. Please adapt your code to use either `displot` (a figure-level function with similar flexibility) or `histplot` (an axes-level function for histograms).\n",
      "\n",
      "/Users/andrejkuzmin/opt/anaconda3/lib/python3.8/site-packages/seaborn/distributions.py:2055: FutureWarning:\n",
      "\n",
      "The `axis` variable is no longer used and will be removed. Instead, assign variables directly to `x` or `y`.\n",
      "\n",
      "/Users/andrejkuzmin/opt/anaconda3/lib/python3.8/site-packages/seaborn/distributions.py:2551: FutureWarning:\n",
      "\n",
      "`distplot` is a deprecated function and will be removed in a future version. Please adapt your code to use either `displot` (a figure-level function with similar flexibility) or `histplot` (an axes-level function for histograms).\n",
      "\n",
      "/Users/andrejkuzmin/opt/anaconda3/lib/python3.8/site-packages/seaborn/distributions.py:2055: FutureWarning:\n",
      "\n",
      "The `axis` variable is no longer used and will be removed. Instead, assign variables directly to `x` or `y`.\n",
      "\n",
      "/Users/andrejkuzmin/opt/anaconda3/lib/python3.8/site-packages/seaborn/distributions.py:2551: FutureWarning:\n",
      "\n",
      "`distplot` is a deprecated function and will be removed in a future version. Please adapt your code to use either `displot` (a figure-level function with similar flexibility) or `histplot` (an axes-level function for histograms).\n",
      "\n",
      "/Users/andrejkuzmin/opt/anaconda3/lib/python3.8/site-packages/seaborn/distributions.py:2055: FutureWarning:\n",
      "\n",
      "The `axis` variable is no longer used and will be removed. Instead, assign variables directly to `x` or `y`.\n",
      "\n"
     ]
    },
    {
     "data": {
      "text/plain": [
       "<seaborn.axisgrid.FacetGrid at 0x7fd44e8d4ac0>"
      ]
     },
     "execution_count": 261,
     "metadata": {},
     "output_type": "execute_result"
    },
    {
     "data": {
      "image/png": "[encoded data removed]",
      "text/plain": [
       "<Figure size 1008x576 with 4 Axes>"
      ]
     },
     "metadata": {
      "needs_background": "light"
     },
     "output_type": "display_data"
    }
   ],
   "source": [
    "g = sns.FacetGrid(data, row=\"weather\",\n",
    "                  height=2, aspect=7)\n",
    "g.map(sns.distplot, \"danceability\", hist=True, rug=True, color = 'black')"
   ]
  },
  {
   "cell_type": "markdown",
   "metadata": {},
   "source": [
    "решил посмотреть парное распределение. Здесь видно , что на всех 4х графиках , распределение схожее, и никаких принципиально различий нет. Я взял погоду(некоторые более общий параметр погоды чем облачность, снег и тд ), и один из параметров музыки. можно сделать вывод , о независимости погоды и музыкальных параметров, что было видно и в корреляционой матрице выше. "
   ]
  },
  {
   "cell_type": "code",
   "execution_count": 26,
   "metadata": {},
   "outputs": [
    {
     "data": {
      "text/plain": [
       "<AxesSubplot:xlabel='danceability', ylabel='weather'>"
      ]
     },
     "execution_count": 26,
     "metadata": {},
     "output_type": "execute_result"
    },
    {
     "data": {
      "image/png": "[encoded data removed]",
      "text/plain": [
       "<Figure size 1296x504 with 1 Axes>"
      ]
     },
     "metadata": {
      "needs_background": "light"
     },
     "output_type": "display_data"
    }
   ],
   "source": [
    "plt.figure(figsize=(18,7))\n",
    "sns.boxplot(y=\"weather\", x=\"danceability\", data = data , orient=\"h\", palette = 'Set2')"
   ]
  },
  {
   "cell_type": "markdown",
   "metadata": {},
   "source": [
    "также построил ящики с усами (boxplot) для парного. Здесь видны промахи и основное разспределение. Кстати, здесь тоже можно увидеть , что распределения похожи.Та же медиана почти на одном уровне.  Если бы они находились в разных местах , можно было бы сказать, что величины различаются в зависимости от температуры, но как мы видим - нет. "
   ]
  },
  {
   "cell_type": "code",
   "execution_count": null,
   "metadata": {},
   "outputs": [],
   "source": [
    "\n"
   ]
  },
  {
   "cell_type": "markdown",
   "metadata": {},
   "source": []
  },
  {
   "cell_type": "markdown",
   "metadata": {},
   "source": [
    "Подводя итог по промежуточной проведенной работе, можно заключить, что пока зависимостей между показателями музыки и погоды \n",
    "не выявлены. В описании к данным было написано, что создатель всегда думал, что музыка влияет на его конкретный выбор. "
   ]
  },
  {
   "cell_type": "code",
   "execution_count": 259,
   "metadata": {},
   "outputs": [
    {
     "name": "stdout",
     "output_type": "stream",
     "text": [
      "Distributions is normal\n",
      "\n"
     ]
    }
   ],
   "source": [
    "alpha = 0.05\n",
    "st = shapiro(data['danceability'])\n",
    "print('Distributions is {}normal\\n'.format( {True:'not ',False:''}[st[1] < alpha])) "
   ]
  },
  {
   "cell_type": "markdown",
   "metadata": {},
   "source": [
    "Распределение действительно нормальное у данного параметра."
   ]
  },
  {
   "cell_type": "code",
   "execution_count": 260,
   "metadata": {},
   "outputs": [
    {
     "name": "stdout",
     "output_type": "stream",
     "text": [
      "Distributions is not normal\n",
      "\n",
      "Distributions is normal\n",
      "\n",
      "Distributions is normal\n",
      "\n",
      "Distributions is not normal\n",
      "\n"
     ]
    }
   ],
   "source": [
    "alpha = 0.05\n",
    "st = shapiro(data[data['weather'] == 'cold']['danceability'])\n",
    "print('Distributions is {}normal\\n'.format( {True:'not ',False:''}[st[1] < alpha])) \n",
    "st = shapiro(data[data['weather'] == 'cool']['danceability'])\n",
    "print('Distributions is {}normal\\n'.format( {True:'not ',False:''}[st[1] < alpha])) \n",
    "st = shapiro(data[data['weather'] == 'warm']['danceability'])\n",
    "print('Distributions is {}normal\\n'.format( {True:'not ',False:''}[st[1] < alpha])) \n",
    "st = shapiro(data[data['weather'] == 'hot']['danceability'])\n",
    "print('Distributions is {}normal\\n'.format( {True:'not ',False:''}[st[1] < alpha])) "
   ]
  },
  {
   "cell_type": "markdown",
   "metadata": {},
   "source": [
    "Распределения с разделениям по погоде часть норм. часть не норм. Хотя в целом , выглядит они близко к нормальному.(ниже)"
   ]
  },
  {
   "cell_type": "code",
   "execution_count": 62,
   "metadata": {},
   "outputs": [
    {
     "data": {
      "image/png": "[encoded data removed]",
      "text/plain": [
       "<Figure size 432x288 with 1 Axes>"
      ]
     },
     "metadata": {
      "needs_background": "light"
     },
     "output_type": "display_data"
    },
    {
     "data": {
      "image/png": "[encoded data removed]",
      "text/plain": [
       "<Figure size 432x288 with 1 Axes>"
      ]
     },
     "metadata": {
      "needs_background": "light"
     },
     "output_type": "display_data"
    },
    {
     "data": {
      "image/png": "[encoded data removed]",
      "text/plain": [
       "<Figure size 432x288 with 1 Axes>"
      ]
     },
     "metadata": {
      "needs_background": "light"
     },
     "output_type": "display_data"
    },
    {
     "data": {
      "image/png": "[encoded data removed]",
      "text/plain": [
       "<Figure size 432x288 with 1 Axes>"
      ]
     },
     "metadata": {
      "needs_background": "light"
     },
     "output_type": "display_data"
    }
   ],
   "source": [
    "hist_cold = plt.hist(data[data['weather'] == 'cold']['danceability'],bins=100)\n",
    "plt.show(hist_cold)\n",
    "hist_cool = plt.hist(data[data['weather'] == 'cool']['danceability'],bins=100)\n",
    "plt.show(hist_cool)\n",
    "hist_warm = plt.hist(data[data['weather'] == 'warm']['danceability'],bins=100)\n",
    "plt.show(hist_warm)\n",
    "hist_hot = plt.hist(data[data['weather'] == 'hot']['danceability'],bins=100)\n",
    "plt.show(hist_hot)"
   ]
  },
  {
   "cell_type": "code",
   "execution_count": 270,
   "metadata": {
    "scrolled": true
   },
   "outputs": [
    {
     "name": "stdout",
     "output_type": "stream",
     "text": [
      "means are equal\n",
      "\n"
     ]
    }
   ],
   "source": [
    "alpha = 0.05\n",
    "st = f_oneway(data[data['weather'] == 'cold']['danceability'],data[data['weather'] == 'hot']['danceability'], data[data['weather'] == 'warm']['danceability'],data[data['weather'] == 'cool']['danceability'])\n",
    "print('means are {}equal\\n'.format( {True:'not ',\n",
    "False:''}[st[1] < alpha])) \n"
   ]
  },
  {
   "cell_type": "markdown",
   "metadata": {},
   "source": [
    "Был выбран тест f_oneway , тк его можно использовать для нескольких групп. Ho берется что мат ожидания у всех групп равны. Приведенный ниже ручной расчет подтверждает правильность выбора теста и его результата. \n"
   ]
  },
  {
   "cell_type": "code",
   "execution_count": 156,
   "metadata": {},
   "outputs": [
    {
     "name": "stdout",
     "output_type": "stream",
     "text": [
      "0.6995480188600943\n",
      "0.6985696059469205\n",
      "0.687207897646843\n",
      "0.6936400707935008\n"
     ]
    }
   ],
   "source": [
    "print(data[data['weather'] == 'hot']['danceability'].mean())\n",
    "print(data[data['weather'] == 'warm']['danceability'].mean())\n",
    "print(data[data['weather'] == 'cool']['danceability'].mean())\n",
    "print(data[data['weather'] == 'cold']['danceability'].mean())"
   ]
  },
  {
   "cell_type": "code",
   "execution_count": 267,
   "metadata": {},
   "outputs": [
    {
     "data": {
      "image/png": "[encoded data removed]",
      "text/plain": [
       "<Figure size 576x360 with 1 Axes>"
      ]
     },
     "metadata": {
      "needs_background": "light"
     },
     "output_type": "display_data"
    }
   ],
   "source": [
    "plt.figure(figsize=(8,5))\n",
    "plt.hist(data[data['weather'] == 'cold']['danceability'].values, bins=100, alpha=0.5, label='cold')\n",
    "plt.hist(data[data['weather'] == 'cool']['danceability'].values, bins=100, alpha=0.5, label='cool')\n",
    "plt.hist(data[data['weather'] == 'warm']['danceability'].values, bins=100, alpha=0.5, label='warm')\n",
    "plt.hist(data[data['weather'] == 'hot']['danceability'].values, bins=100, alpha=0.5, label='hot')\n",
    "plt.legend(loc='upper right')\n",
    "plt.title(\"Гистограммы по  группам\")\n",
    "plt.show()\n"
   ]
  },
  {
   "cell_type": "code",
   "execution_count": 256,
   "metadata": {},
   "outputs": [
    {
     "name": "stdout",
     "output_type": "stream",
     "text": [
      "Vars is equal\n",
      "\n"
     ]
    }
   ],
   "source": [
    "st = levene(data[data['weather'] == 'cold']['danceability'],data[data['weather'] == 'cool']['danceability'],data[data['weather'] == 'warm']['danceability'],data[data['weather'] == 'hot']['danceability'])\n",
    "print('Vars is {}equal\\n'.format( {True:'not ', False:''}[st[1] < alpha]))"
   ]
  },
  {
   "cell_type": "markdown",
   "metadata": {},
   "source": [
    "данный критерий был выбран, потому как можно сравнить больше 2х групп, и он менее чувствителен к нормальному распределению."
   ]
  },
  {
   "cell_type": "code",
   "execution_count": 268,
   "metadata": {},
   "outputs": [
    {
     "data": {
      "image/png": "[encoded data removed]",
      "text/plain": [
       "<Figure size 576x360 with 1 Axes>"
      ]
     },
     "metadata": {
      "needs_background": "light"
     },
     "output_type": "display_data"
    }
   ],
   "source": [
    "plt.figure(figsize=(8,5))\n",
    "plt.hist(data[data['weather'] == 'cold']['danceability'].values, bins=100, alpha=0.5, label='cold')\n",
    "plt.hist(data[data['weather'] == 'cool']['danceability'].values, bins=100, alpha=0.5, label='cool')\n",
    "plt.hist(data[data['weather'] == 'warm']['danceability'].values, bins=100, alpha=0.5, label='warm')\n",
    "plt.hist(data[data['weather'] == 'hot']['danceability'].values, bins=100, alpha=0.5, label='hot')\n",
    "plt.legend(loc='upper right')\n",
    "plt.title(\"Гистограммы по  группам\")\n",
    "plt.show()"
   ]
  },
  {
   "cell_type": "markdown",
   "metadata": {},
   "source": [
    "наглядная иллюстрация равенства мат. ожиданий и дисперсий."
   ]
  },
  {
   "cell_type": "code",
   "execution_count": 257,
   "metadata": {},
   "outputs": [
    {
     "name": "stdout",
     "output_type": "stream",
     "text": [
      "0.017415185161063405\n",
      "0.017304957757480918\n",
      "0.018797617090794666\n",
      "0.01686272730859545\n"
     ]
    }
   ],
   "source": [
    "print(data[data['weather'] == 'hot']['danceability'].var())\n",
    "print(data[data['weather'] == 'warm']['danceability'].var())\n",
    "print(data[data['weather'] == 'cool']['danceability'].var())\n",
    "print(data[data['weather'] == 'cold']['danceability'].var())"
   ]
  },
  {
   "cell_type": "markdown",
   "metadata": {},
   "source": [
    "Таким образом, получаем, что дисперсии и мат.ожидания между группами равны, а из этого следует, что никакой зависимости данного параметра 'danceability' и погоды нет(иначе бы в зависимости от температуры мат. ожидание уж точно смещалось. А это значит, что наша гипотеза о зависимости температуры и параметра музыки отвергается.\n"
   ]
  },
  {
   "cell_type": "code",
   "execution_count": null,
   "metadata": {},
   "outputs": [],
   "source": []
  }
 ],
 "metadata": {
  "kernelspec": {
   "display_name": "Python 3",
   "language": "python",
   "name": "python3"
  },
  "language_info": {
   "codemirror_mode": {
    "name": "ipython",
    "version": 3
   },
   "file_extension": ".py",
   "mimetype": "text/x-python",
   "name": "python",
   "nbconvert_exporter": "python",
   "pygments_lexer": "ipython3",
   "version": "3.8.5"
  }
 },
 "nbformat": 4,
 "nbformat_minor": 4
}
